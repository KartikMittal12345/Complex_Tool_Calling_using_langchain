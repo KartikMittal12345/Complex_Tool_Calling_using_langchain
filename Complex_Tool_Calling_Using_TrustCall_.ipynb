{
  "nbformat": 4,
  "nbformat_minor": 0,
  "metadata": {
    "colab": {
      "provenance": []
    },
    "kernelspec": {
      "name": "python3",
      "display_name": "Python 3"
    },
    "language_info": {
      "name": "python"
    }
  },
  "cells": [
    {
      "cell_type": "code",
      "execution_count": null,
      "metadata": {
        "id": "4GsR0Ka9gYOr"
      },
      "outputs": [],
      "source": [
        "%%capture --no-stderr\n",
        "%pip install -U langgraph langchain-community langchain-anthropic tavily-python pandas  langchain_groq langchain_fireworks"
      ]
    },
    {
      "cell_type": "code",
      "source": [
        "import os\n",
        "from google.colab import userdata\n",
        "\n",
        "os.environ[\"OPENAI_API_KEY\"] = userdata.get(\"OPENAI_API_KEY\")\n",
        "os.environ[\"GROQ_API_KEY\"] = userdata.get(\"GROQ_API_KEY\")\n",
        "os.environ[\"LANGCHAIN_API_KEY\"] = userdata.get(\"LANGCHAIN_API_KEY\")\n",
        "os.environ[\"LANGCHAIN_PROJECT\"] = \"Complex_Tool_Calling\"\n",
        "os.environ[\"LANGCHAIN_TRACING_V2\"] = \"true\"\n",
        "#os.environ[\"ANTHROPIC_API_KEY\"] = userdata.get(\"ANTHROPIC_API_KEY\")\n",
        "os.environ[\"SCRAPYBARA_API_KEY\"] = userdata.get(\"SCRAPYBARA_API_KEY\")\n",
        "os.environ[\"TAVILY_API_KEY\"] = userdata.get(\"TAVILY_API_KEY\")\n",
        "os.environ[\"FIREWORKS_API_KEY\"] = userdata.get(\"FIREWORKS_API_KEY\")\n",
        "from langchain import hub\n",
        "from langchain_groq import ChatGroq\n",
        "from langchain.agents import create_openai_functions_agent\n",
        "\n",
        "llm = ChatGroq(model_name = \"llama3-70b-8192\",api_key = os.environ[\"GROQ_API_KEY\"])\n",
        "\n"
      ],
      "metadata": {
        "id": "t9t85jwKgi61"
      },
      "execution_count": null,
      "outputs": []
    },
    {
      "cell_type": "code",
      "source": [
        "! pip install trustcall"
      ],
      "metadata": {
        "colab": {
          "base_uri": "https://localhost:8080/"
        },
        "collapsed": true,
        "id": "I-yfkDl7g6w_",
        "outputId": "51e5422c-d3ac-41a4-e8bc-4f8e0bccc481"
      },
      "execution_count": null,
      "outputs": [
        {
          "output_type": "stream",
          "name": "stdout",
          "text": [
            "Collecting trustcall\n",
            "  Downloading trustcall-0.0.38-py3-none-any.whl.metadata (29 kB)\n",
            "Requirement already satisfied: langgraph>=0.2.25 in /usr/local/lib/python3.11/dist-packages (from trustcall) (0.3.21)\n",
            "Collecting dydantic<1.0.0,>=0.0.8 (from trustcall)\n",
            "  Downloading dydantic-0.0.8-py3-none-any.whl.metadata (3.6 kB)\n",
            "Requirement already satisfied: jsonpatch<2.0,>=1.33 in /usr/local/lib/python3.11/dist-packages (from trustcall) (1.33)\n",
            "Requirement already satisfied: langgraph-prebuilt>=0.1.2 in /usr/local/lib/python3.11/dist-packages (from trustcall) (0.1.7)\n",
            "Requirement already satisfied: pydantic<3,>=2 in /usr/local/lib/python3.11/dist-packages (from dydantic<1.0.0,>=0.0.8->trustcall) (2.10.6)\n",
            "Requirement already satisfied: jsonpointer>=1.9 in /usr/local/lib/python3.11/dist-packages (from jsonpatch<2.0,>=1.33->trustcall) (3.0.0)\n",
            "Requirement already satisfied: langchain-core<0.4,>=0.1 in /usr/local/lib/python3.11/dist-packages (from langgraph>=0.2.25->trustcall) (0.3.49)\n",
            "Requirement already satisfied: langgraph-checkpoint<3.0.0,>=2.0.10 in /usr/local/lib/python3.11/dist-packages (from langgraph>=0.2.25->trustcall) (2.0.23)\n",
            "Requirement already satisfied: langgraph-sdk<0.2.0,>=0.1.42 in /usr/local/lib/python3.11/dist-packages (from langgraph>=0.2.25->trustcall) (0.1.60)\n",
            "Requirement already satisfied: xxhash<4.0.0,>=3.5.0 in /usr/local/lib/python3.11/dist-packages (from langgraph>=0.2.25->trustcall) (3.5.0)\n",
            "Requirement already satisfied: langsmith<0.4,>=0.1.125 in /usr/local/lib/python3.11/dist-packages (from langchain-core<0.4,>=0.1->langgraph>=0.2.25->trustcall) (0.3.18)\n",
            "Requirement already satisfied: tenacity!=8.4.0,<10.0.0,>=8.1.0 in /usr/local/lib/python3.11/dist-packages (from langchain-core<0.4,>=0.1->langgraph>=0.2.25->trustcall) (9.0.0)\n",
            "Requirement already satisfied: PyYAML>=5.3 in /usr/local/lib/python3.11/dist-packages (from langchain-core<0.4,>=0.1->langgraph>=0.2.25->trustcall) (6.0.2)\n",
            "Requirement already satisfied: packaging<25,>=23.2 in /usr/local/lib/python3.11/dist-packages (from langchain-core<0.4,>=0.1->langgraph>=0.2.25->trustcall) (24.2)\n",
            "Requirement already satisfied: typing-extensions>=4.7 in /usr/local/lib/python3.11/dist-packages (from langchain-core<0.4,>=0.1->langgraph>=0.2.25->trustcall) (4.12.2)\n",
            "Requirement already satisfied: ormsgpack<2.0.0,>=1.8.0 in /usr/local/lib/python3.11/dist-packages (from langgraph-checkpoint<3.0.0,>=2.0.10->langgraph>=0.2.25->trustcall) (1.9.1)\n",
            "Requirement already satisfied: httpx>=0.25.2 in /usr/local/lib/python3.11/dist-packages (from langgraph-sdk<0.2.0,>=0.1.42->langgraph>=0.2.25->trustcall) (0.28.1)\n",
            "Requirement already satisfied: orjson>=3.10.1 in /usr/local/lib/python3.11/dist-packages (from langgraph-sdk<0.2.0,>=0.1.42->langgraph>=0.2.25->trustcall) (3.10.15)\n",
            "Requirement already satisfied: annotated-types>=0.6.0 in /usr/local/lib/python3.11/dist-packages (from pydantic<3,>=2->dydantic<1.0.0,>=0.0.8->trustcall) (0.7.0)\n",
            "Requirement already satisfied: pydantic-core==2.27.2 in /usr/local/lib/python3.11/dist-packages (from pydantic<3,>=2->dydantic<1.0.0,>=0.0.8->trustcall) (2.27.2)\n",
            "Requirement already satisfied: anyio in /usr/local/lib/python3.11/dist-packages (from httpx>=0.25.2->langgraph-sdk<0.2.0,>=0.1.42->langgraph>=0.2.25->trustcall) (4.9.0)\n",
            "Requirement already satisfied: certifi in /usr/local/lib/python3.11/dist-packages (from httpx>=0.25.2->langgraph-sdk<0.2.0,>=0.1.42->langgraph>=0.2.25->trustcall) (2025.1.31)\n",
            "Requirement already satisfied: httpcore==1.* in /usr/local/lib/python3.11/dist-packages (from httpx>=0.25.2->langgraph-sdk<0.2.0,>=0.1.42->langgraph>=0.2.25->trustcall) (1.0.7)\n",
            "Requirement already satisfied: idna in /usr/local/lib/python3.11/dist-packages (from httpx>=0.25.2->langgraph-sdk<0.2.0,>=0.1.42->langgraph>=0.2.25->trustcall) (3.10)\n",
            "Requirement already satisfied: h11<0.15,>=0.13 in /usr/local/lib/python3.11/dist-packages (from httpcore==1.*->httpx>=0.25.2->langgraph-sdk<0.2.0,>=0.1.42->langgraph>=0.2.25->trustcall) (0.14.0)\n",
            "Requirement already satisfied: requests<3,>=2 in /usr/local/lib/python3.11/dist-packages (from langsmith<0.4,>=0.1.125->langchain-core<0.4,>=0.1->langgraph>=0.2.25->trustcall) (2.32.3)\n",
            "Requirement already satisfied: requests-toolbelt<2.0.0,>=1.0.0 in /usr/local/lib/python3.11/dist-packages (from langsmith<0.4,>=0.1.125->langchain-core<0.4,>=0.1->langgraph>=0.2.25->trustcall) (1.0.0)\n",
            "Requirement already satisfied: zstandard<0.24.0,>=0.23.0 in /usr/local/lib/python3.11/dist-packages (from langsmith<0.4,>=0.1.125->langchain-core<0.4,>=0.1->langgraph>=0.2.25->trustcall) (0.23.0)\n",
            "Requirement already satisfied: charset-normalizer<4,>=2 in /usr/local/lib/python3.11/dist-packages (from requests<3,>=2->langsmith<0.4,>=0.1.125->langchain-core<0.4,>=0.1->langgraph>=0.2.25->trustcall) (3.4.1)\n",
            "Requirement already satisfied: urllib3<3,>=1.21.1 in /usr/local/lib/python3.11/dist-packages (from requests<3,>=2->langsmith<0.4,>=0.1.125->langchain-core<0.4,>=0.1->langgraph>=0.2.25->trustcall) (2.3.0)\n",
            "Requirement already satisfied: sniffio>=1.1 in /usr/local/lib/python3.11/dist-packages (from anyio->httpx>=0.25.2->langgraph-sdk<0.2.0,>=0.1.42->langgraph>=0.2.25->trustcall) (1.3.1)\n",
            "Downloading trustcall-0.0.38-py3-none-any.whl (26 kB)\n",
            "Downloading dydantic-0.0.8-py3-none-any.whl (8.6 kB)\n",
            "Installing collected packages: dydantic, trustcall\n",
            "Successfully installed dydantic-0.0.8 trustcall-0.0.38\n"
          ]
        }
      ]
    },
    {
      "cell_type": "code",
      "source": [
        "import uuid\n",
        "\n",
        "from typing import Optional,List\n",
        "\n",
        "from pydantic import BaseModel,Field"
      ],
      "metadata": {
        "id": "jeIBIHuehJ5b"
      },
      "execution_count": null,
      "outputs": []
    },
    {
      "cell_type": "code",
      "source": [
        "class Person(BaseModel):\n",
        "  \"\"\"Someone That user want to ask\"\"\"\n",
        "\n",
        "  name:str\n",
        "  relationship:str = Field(description=\"How thwy Related To User\")\n",
        "\n",
        "  notes:List[str] = Field(\n",
        "      description=\"Memories and Observation of Person\"\n",
        "  )\n",
        "\n",
        "\n",
        "initial_people = [\n",
        "     Person(\n",
        "        name = \"Emma Thompson\",\n",
        "        relationship = \"College Friend\",\n",
        "        notes=[\"Loves hiking\", \"Works in marketing\", \"Has a dog named Max\"],\n",
        "    ),\n",
        "\n",
        "     Person(\n",
        "        name = \"Michael Chen\",\n",
        "        relationship = \"Coworker\",\n",
        "        notes=[\"Great at problem-solving\", \"Vegetarian\", \"Plays guitar\"],\n",
        "    ),\n",
        "\n",
        "\n",
        "    Person(\n",
        "        name=\"Sarah Johnson\",\n",
        "        relationship=\"Neighbor\",\n",
        "        notes=[\"Has two kids\", \"Loves gardening\", \"Makes amazing cookies\"],\n",
        "    ),\n",
        "\n",
        "]\n",
        "\n",
        "\n",
        "existing_data = [\n",
        "    (str(i), \"Person\", person.model_dump()) for i, person in enumerate(initial_people)\n",
        "]\n",
        "\n",
        "\n"
      ],
      "metadata": {
        "id": "ieUuwOkviMet"
      },
      "execution_count": null,
      "outputs": []
    },
    {
      "cell_type": "code",
      "source": [
        "conversation = \"\"\"\n",
        "Me: I ran into Emma Thompson at the park yesterday. She was walking her new puppy, a golden retriever named Sunny. She mentioned she got promoted to Senior Marketing Manager last month.\n",
        "Friend: That's great news for Emma! How's she enjoying the new role?\n",
        "Me: She seems to be thriving. Oh, and did you know she's taken up rock climbing? She invited me to join her at the climbing gym sometime.\n",
        "Friend: Wow, rock climbing? That's quite a change from hiking. Speaking of friends, have you heard from Michael Chen recently?\n",
        "Me: Actually, yes. We had a video call last week. He's switched jobs and is now working as a Data Scientist at a startup. He's also mentioned he's thinking of going vegan.\n",
        "Friend: That's a big change for Michael! Both career and diet-wise. How about your neighbor, Sarah? Is she still teaching?\n",
        "Me: Sarah's doing well. Her kids are growing up fast - her oldest just started middle school. She's still teaching, but now she's focusing on special education. She's really passionate about it.\n",
        "Friend: That's wonderful. Oh, before I forget, I wanted to introduce you to my cousin who just moved to town. Her name is Olivia Davis, she's a 27-year-old graphic designer. She's looking to meet new people and expand her social circle. I thought you two might get along well.\n",
        "Me: That sounds great! I'd love to meet her. Maybe we could all get together for coffee next week?\n",
        "Friend: Perfect! I'll set it up. Olivia loves art and is always sketching in her free time. She also volunteers at the local animal shelter on weekends.\n",
        "\"\"\"\n",
        "\n"
      ],
      "metadata": {
        "id": "DOk_0-qokmvX"
      },
      "execution_count": null,
      "outputs": []
    },
    {
      "cell_type": "code",
      "source": [
        "from trustcall import create_extractor"
      ],
      "metadata": {
        "id": "nAyBerftkxPc"
      },
      "execution_count": null,
      "outputs": []
    },
    {
      "cell_type": "code",
      "source": [
        "extractor = create_extractor(\n",
        "    llm,\n",
        "    tools=[Person],\n",
        "    tool_choice=\"any\",\n",
        "    enable_inserts=True,\n",
        ")\n",
        "\n"
      ],
      "metadata": {
        "id": "ysIViJXIkr-V"
      },
      "execution_count": null,
      "outputs": []
    },
    {
      "cell_type": "code",
      "source": [
        "extractor.invoke(\n",
        "    {\n",
        "        \"messages\":[\n",
        "            {\n",
        "                \"role\":\"user\",\n",
        "                \"content\": f\"Update existing person records and create new ones based on the following conversation:\\n\\n{conversation}\",\n",
        "\n",
        "            }\n",
        "        ],\n",
        "        \"existing\":existing_data,\n",
        "    }\n",
        ")"
      ],
      "metadata": {
        "colab": {
          "base_uri": "https://localhost:8080/"
        },
        "id": "mZs97irKk5ea",
        "outputId": "037bdb5a-fbf8-4452-8db0-0cc21cfb3cc6"
      },
      "execution_count": null,
      "outputs": [
        {
          "output_type": "stream",
          "name": "stderr",
          "text": [
            "ERROR:extraction:Could not apply patch: 'path' with '-' can't be applied to 'replace' operation\n",
            "ERROR:extraction:Could not apply patch: 'path' with '-' can't be applied to 'replace' operation\n"
          ]
        },
        {
          "output_type": "execute_result",
          "data": {
            "text/plain": [
              "{'messages': [AIMessage(content='', additional_kwargs={'updated_docs': {'call_1t13': '2'}}, response_metadata={}, id='3f9ddfe8-6d60-4407-b3a0-ca8c4ae8f781', tool_calls=[{'name': 'Person', 'args': {'name': 'Sarah Johnson', 'relationship': 'Neighbor', 'notes': ['Has two kids', 'Loves gardening', 'Makes amazing cookies', 'Teaches special education']}, 'id': 'call_1t13', 'type': 'tool_call'}, {'name': 'Person', 'args': {'name': 'Olivia Davis', 'relationship': 'Friend of a Friend', 'notes': ['Loves art', 'Enjoys sketching', 'Volunteers at the local animal shelter']}, 'id': 'call_e60c', 'type': 'tool_call'}])],\n",
              " 'responses': [Person(name='Sarah Johnson', relationship='Neighbor', notes=['Has two kids', 'Loves gardening', 'Makes amazing cookies', 'Teaches special education']),\n",
              "  Person(name='Olivia Davis', relationship='Friend of a Friend', notes=['Loves art', 'Enjoys sketching', 'Volunteers at the local animal shelter'])],\n",
              " 'response_metadata': [{'id': 'call_1t13', 'json_doc_id': '2'},\n",
              "  {'id': 'call_e60c'}],\n",
              " 'attempts': 1}"
            ]
          },
          "metadata": {},
          "execution_count": 16
        }
      ]
    }
  ]
}